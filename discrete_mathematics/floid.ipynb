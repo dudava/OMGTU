{
 "cells": [
  {
   "cell_type": "code",
   "execution_count": 16,
   "metadata": {},
   "outputs": [
    {
     "name": "stdout",
     "output_type": "stream",
     "text": [
      "[[0, 5, 3, 8], [-5, 0, -2, 3], [-3, 2, 0, 5], [-8, -3, -5, 0]]\n"
     ]
    }
   ],
   "source": [
    "import copy\n",
    "\n",
    "\n",
    "def floid(weight_matrix):\n",
    "    A = copy.deepcopy(weight_matrix)\n",
    "    N = len(A)\n",
    "\n",
    "    for k in range(N):\n",
    "        for i in range(N):\n",
    "            for j in range(N):\n",
    "                summ = A[i][k] + A[k][j]\n",
    "                if summ < A[i][j]:\n",
    "                    A[i][j] = summ\n",
    "    return A\n",
    "\n",
    "\n",
    "INF = 10e9\n",
    "weight_matrix = [\n",
    "    [0, 5, INF, INF],\n",
    "    [INF, 0, 5, 3],\n",
    "    [-3, INF, 0, INF],\n",
    "    [2, INF, -5, INF],\n",
    "]\n",
    "result_matrix = floid(weight_matrix)\n",
    "print(result_matrix)"
   ]
  }
 ],
 "metadata": {
  "kernelspec": {
   "display_name": "Python 3",
   "language": "python",
   "name": "python3"
  },
  "language_info": {
   "codemirror_mode": {
    "name": "ipython",
    "version": 3
   },
   "file_extension": ".py",
   "mimetype": "text/x-python",
   "name": "python",
   "nbconvert_exporter": "python",
   "pygments_lexer": "ipython3",
   "version": "3.9.13"
  }
 },
 "nbformat": 4,
 "nbformat_minor": 2
}
