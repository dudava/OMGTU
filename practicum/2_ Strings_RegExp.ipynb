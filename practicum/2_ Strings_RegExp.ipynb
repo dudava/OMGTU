{
 "cells": [
  {
   "cell_type": "code",
   "execution_count": 25,
   "metadata": {
    "dotnet_interactive": {
     "language": "csharp"
    },
    "polyglot_notebook": {
     "kernelName": "csharp"
    },
    "vscode": {
     "languageId": "polyglot-notebook"
    }
   },
   "outputs": [
    {
     "name": "stdout",
     "output_type": "stream",
     "text": [
      "The execution time with StringBuilder is 70ms\n",
      "The execution time with string is 425ms\n"
     ]
    }
   ],
   "source": [
    "using System.Diagnostics;\n",
    "\n",
    "Random random = new Random();\n",
    "char[] alphabet = Enumerable.Range('a', 26).Select(code => (char)code).ToArray();\n",
    "\n",
    "\n",
    "string GenerateRandomString(char[] alphabet, int length) \n",
    "{\n",
    "    char[] arr = new char[length];\n",
    "    for (int i = 0; i < length; i++) {\n",
    "        arr[i] = alphabet[random.Next(alphabet.Length)];\n",
    "    }\n",
    "    \n",
    "    return new String(arr);\n",
    "}\n",
    "\n",
    "\n",
    "int range = (int)10e6;\n",
    "\n",
    "// for StringBuilder\n",
    "StringBuilder sb = new StringBuilder(GenerateRandomString(alphabet, 10));\n",
    "Stopwatch watch = Stopwatch.StartNew();\n",
    "for (int i = 0; i < range; i++) \n",
    "{\n",
    "    sb[i % 10] = alphabet[random.Next(alphabet.Length)];\n",
    "}\n",
    "watch.Stop();\n",
    "Console.WriteLine($\"The execution time with StringBuilder is {watch.ElapsedMilliseconds}ms\");\n",
    "\n",
    "// for string\n",
    "string st = GenerateRandomString(alphabet, 10);\n",
    "watch = Stopwatch.StartNew();\n",
    "for (int i = 0; i < range; i++) {\n",
    "    int index = i % 10;\n",
    "    string stStart = st.Substring(0, index);\n",
    "    string stEnd = st.Substring(index + 1, st.Length - (index + 1));\n",
    "    st = stStart + alphabet[random.Next(alphabet.Length)] + stEnd;\n",
    "}\n",
    "watch.Stop();\n",
    "Console.WriteLine($\"The execution time with string is {watch.ElapsedMilliseconds}ms\");"
   ]
  },
  {
   "cell_type": "code",
   "execution_count": 29,
   "metadata": {
    "dotnet_interactive": {
     "language": "csharp"
    },
    "polyglot_notebook": {
     "kernelName": "csharp"
    },
    "vscode": {
     "languageId": "polyglot-notebook"
    }
   },
   "outputs": [
    {
     "name": "stdout",
     "output_type": "stream",
     "text": [
      "08:06\n",
      "\n"
     ]
    }
   ],
   "source": [
    "using System.Text.RegularExpressions;\n",
    "\n",
    "string pattern = \"^([0-1][0-9]|2[0-3]):[0-5][0-9]$\";\n",
    "string correctDate = \"08:06\";\n",
    "string uncorrectDate = \"123:321\";\n",
    "Regex dateRegex = new Regex(pattern);\n",
    "Console.WriteLine(dateRegex.Match(correctDate)); // 08:06\n",
    "Console.WriteLine(dateRegex.Match(uncorrectDate)); // empty string"
   ]
  },
  {
   "cell_type": "code",
   "execution_count": 32,
   "metadata": {
    "dotnet_interactive": {
     "language": "csharp"
    },
    "polyglot_notebook": {
     "kernelName": "csharp"
    },
    "vscode": {
     "languageId": "polyglot-notebook"
    }
   },
   "outputs": [
    {
     "name": "stdout",
     "output_type": "stream",
     "text": [
      "Dudavik356@yandex.ru\n",
      "\n"
     ]
    }
   ],
   "source": [
    "using System.Text.RegularExpressions;\n",
    "\n",
    "string pattern = @\"^([a-zA-Z]|[0-9]|-|_)+@(([a-z]|[0-9]|-)+\\.)+([a-z]|[0-9]|-)+$\";\n",
    "string correctMail = \"Dudavik356@yandex.ru\";\n",
    "string uncorrectMail = \"Dud@vik3|6@yandex\";\n",
    "Regex mailRegex = new Regex(pattern);\n",
    "Console.WriteLine(mailRegex.Match(correctMail)); // Dudavik356@yandex.ru\n",
    "Console.WriteLine(mailRegex.Match(uncorrectMail)); // empty string"
   ]
  }
 ],
 "metadata": {
  "language_info": {
   "name": "python"
  }
 },
 "nbformat": 4,
 "nbformat_minor": 2
}
