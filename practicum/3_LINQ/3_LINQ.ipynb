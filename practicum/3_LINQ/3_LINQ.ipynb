{
 "cells": [
  {
   "cell_type": "code",
   "execution_count": 5,
   "metadata": {
    "dotnet_interactive": {
     "language": "csharp"
    },
    "polyglot_notebook": {
     "kernelName": "csharp"
    },
    "vscode": {
     "languageId": "polyglot-notebook"
    }
   },
   "outputs": [],
   "source": [
    "using System.IO;\n",
    "using Newtonsoft.Json.Linq;\n",
    "using Newtonsoft.Json;\n",
    "\n",
    "\n",
    "class Student {\n",
    "    public string Name;\n",
    "    public string Group;\n",
    "    public string Discipline;\n",
    "    public int Mark;\n",
    "}\n",
    "\n",
    "class JsonResponse {\n",
    "    public IEnumerable Response;\n",
    "\n",
    "    public JsonResponse(IEnumerable Response) {\n",
    "        this.Response = Response;\n",
    "    }\n",
    "\n",
    "    public string ToJson() {\n",
    "        return JsonConvert.SerializeObject(this, Formatting.Indented);\n",
    "    }\n",
    "\n",
    "    public void Write(string path) {\n",
    "        using (StreamWriter sw = new StreamWriter(path)) {\n",
    "            sw.Write(this.ToJson());\n",
    "        }\n",
    "    }\n",
    "}\n",
    "\n",
    "List<Student> getStudents(string input_f_path) {\n",
    "    List<Student> students = new List<Student>();\n",
    "    using (StreamReader reader = new StreamReader(@\".\\input_1.json\")) {\n",
    "        JObject task = (JObject)JToken.ReadFrom(new JsonTextReader(reader));\n",
    "        foreach(JObject s_data in task[\"data\"]) {\n",
    "            Student student = new Student() {Name = (string)s_data[\"name\"], Group = (string)s_data[\"group\"],\n",
    "                                            Discipline = (string)s_data[\"discipline\"], Mark = (int)s_data[\"mark\"]};   \n",
    "            students.Add(student);\n",
    "        }\n",
    "    }\n",
    "    return students;\n",
    "}"
   ]
  },
  {
   "cell_type": "code",
   "execution_count": 6,
   "metadata": {
    "dotnet_interactive": {
     "language": "csharp"
    },
    "polyglot_notebook": {
     "kernelName": "csharp"
    },
    "vscode": {
     "languageId": "polyglot-notebook"
    }
   },
   "outputs": [],
   "source": [
    "List<Student> students = getStudents(@\".\\input_1.json\");\n",
    "\n",
    "var studentsByAverageMarks = \n",
    "    from student in students\n",
    "    group student by student.Name into studentsByName\n",
    "    select new \n",
    "    {\n",
    "        Name = studentsByName.Key,\n",
    "        AverageMark = studentsByName.Average(st => st.Mark)\n",
    "    };\n",
    "\n",
    "var studentsWithMaxAverageMark = \n",
    "    from student in studentsByAverageMarks\n",
    "    let maxAverageMark = studentsByAverageMarks.Max(st => st.AverageMark)\n",
    "    where student.AverageMark == maxAverageMark\n",
    "    select new {\n",
    "        Cadet = student.Name,\n",
    "        GPA = maxAverageMark\n",
    "    };\n",
    "\n",
    "new JsonResponse(studentsWithMaxAverageMark).Write(@\".\\output_1.json\");"
   ]
  },
  {
   "cell_type": "code",
   "execution_count": 7,
   "metadata": {
    "dotnet_interactive": {
     "language": "csharp"
    },
    "polyglot_notebook": {
     "kernelName": "csharp"
    },
    "vscode": {
     "languageId": "polyglot-notebook"
    }
   },
   "outputs": [],
   "source": [
    "List<Student> students = getStudents(@\".\\input_2.json\");\n",
    "\n",
    "var averageDisciplineMarks = \n",
    "    from student in students\n",
    "    group student by student.Discipline into studentsByDiscipline\n",
    "    select new \n",
    "    {\n",
    "        Name = studentsByDiscipline.Key,\n",
    "        AverageMark = studentsByDiscipline.Average(st => st.Mark)\n",
    "    };\n",
    "\n",
    "new JsonResponse(averageDisciplineMarks).Write(@\".\\output_2.json\");"
   ]
  },
  {
   "cell_type": "code",
   "execution_count": 8,
   "metadata": {
    "dotnet_interactive": {
     "language": "csharp"
    },
    "polyglot_notebook": {
     "kernelName": "csharp"
    },
    "vscode": {
     "languageId": "polyglot-notebook"
    }
   },
   "outputs": [],
   "source": [
    "List<Student> students = getStudents(@\".\\input_2.json\");\n",
    "\n",
    "var averageDisciplineMarks = \n",
    "    from student in students\n",
    "    group student by student.Discipline into studentsByDiscipline\n",
    "    select new \n",
    "    {\n",
    "        Discipline = studentsByDiscipline.Key,\n",
    "        Groups = (\n",
    "            from student2 in studentsByDiscipline\n",
    "            group student2 by student2.Group into studentsByGroup\n",
    "            select new \n",
    "            {\n",
    "                Group = studentsByGroup.Key,\n",
    "                AverageMark = studentsByGroup.Average(st => st.Mark)\n",
    "            }\n",
    "        )\n",
    "    };\n",
    "\n",
    "var groupsWithMaxMarks = \n",
    "    from discipline in averageDisciplineMarks\n",
    "    let average = discipline.Groups.Max(g => g.AverageMark)\n",
    "    from g in discipline.Groups\n",
    "    where g.AverageMark == average\n",
    "    select new {\n",
    "        Discipline = discipline.Discipline,\n",
    "        Group = g.Group,\n",
    "        GPA = g.AverageMark\n",
    "    };\n",
    "\n",
    "new JsonResponse(groupsWithMaxMarks).Write(@\".\\output_3.json\");"
   ]
  }
 ],
 "metadata": {
  "language_info": {
   "name": "python"
  }
 },
 "nbformat": 4,
 "nbformat_minor": 2
}
